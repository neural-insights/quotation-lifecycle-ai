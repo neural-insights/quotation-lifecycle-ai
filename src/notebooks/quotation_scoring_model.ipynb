{
 "cells": [
  {
   "cell_type": "markdown",
   "id": "8b0ab765",
   "metadata": {},
   "source": [
    "# Quotation Scoring Modeling (ML)"
   ]
  },
  {
   "cell_type": "markdown",
   "id": "150dce6b",
   "metadata": {},
   "source": [
    "--------------------------"
   ]
  },
  {
   "cell_type": "markdown",
   "id": "16965511",
   "metadata": {},
   "source": [
    "#### This notebook aims to explore the dataset containing supplier responses and to build a machine learning model to predict the likelihood that each proposal will be converted into a customer sale."
   ]
  },
  {
   "cell_type": "code",
   "execution_count": 1,
   "id": "1e84e940",
   "metadata": {},
   "outputs": [],
   "source": [
    "import pandas as pd\n",
    "import sqlite3\n",
    "\n",
    "# Connecting to the SQL database\n",
    "conn = sqlite3.connect(\"../data/quotations.db\")\n",
    "\n",
    "# Loading training/validation and test data tables\n",
    "df = pd.read_sql_query(\"SELECT * FROM training_quotations\", conn)\n",
    "df_test = pd.read_sql_query(\"SELECT * FROM real_quotation_data\", conn)\n",
    "conn.close()"
   ]
  },
  {
   "cell_type": "code",
   "execution_count": 2,
   "id": "f61279de",
   "metadata": {},
   "outputs": [
    {
     "name": "stdout",
     "output_type": "stream",
     "text": [
      "<class 'pandas.core.frame.DataFrame'>\n",
      "RangeIndex: 10000 entries, 0 to 9999\n",
      "Data columns (total 9 columns):\n",
      " #   Column                Non-Null Count  Dtype  \n",
      "---  ------                --------------  -----  \n",
      " 0   id                    10000 non-null  int64  \n",
      " 1   unit_price            10000 non-null  float64\n",
      " 2   delivery_days         10000 non-null  int64  \n",
      " 3   performance_score     10000 non-null  float64\n",
      " 4   response_time         10000 non-null  float64\n",
      " 5   rfq_complexity_score  10000 non-null  float64\n",
      " 6   is_urgent             10000 non-null  int64  \n",
      " 7   is_custom             10000 non-null  int64  \n",
      " 8   won                   10000 non-null  int64  \n",
      "dtypes: float64(4), int64(5)\n",
      "memory usage: 703.3 KB\n"
     ]
    }
   ],
   "source": [
    "df.info()"
   ]
  },
  {
   "cell_type": "code",
   "execution_count": 7,
   "id": "04255d31",
   "metadata": {},
   "outputs": [
    {
     "data": {
      "text/html": [
       "<div>\n",
       "<style scoped>\n",
       "    .dataframe tbody tr th:only-of-type {\n",
       "        vertical-align: middle;\n",
       "    }\n",
       "\n",
       "    .dataframe tbody tr th {\n",
       "        vertical-align: top;\n",
       "    }\n",
       "\n",
       "    .dataframe thead th {\n",
       "        text-align: right;\n",
       "    }\n",
       "</style>\n",
       "<table border=\"1\" class=\"dataframe\">\n",
       "  <thead>\n",
       "    <tr style=\"text-align: right;\">\n",
       "      <th></th>\n",
       "      <th>id</th>\n",
       "      <th>unit_price</th>\n",
       "      <th>delivery_days</th>\n",
       "      <th>performance_score</th>\n",
       "      <th>response_time</th>\n",
       "      <th>rfq_complexity_score</th>\n",
       "      <th>is_urgent</th>\n",
       "      <th>is_custom</th>\n",
       "      <th>won</th>\n",
       "    </tr>\n",
       "  </thead>\n",
       "  <tbody>\n",
       "    <tr>\n",
       "      <th>3838</th>\n",
       "      <td>3839</td>\n",
       "      <td>14.29</td>\n",
       "      <td>7</td>\n",
       "      <td>0.15</td>\n",
       "      <td>40.09</td>\n",
       "      <td>3.81</td>\n",
       "      <td>0</td>\n",
       "      <td>1</td>\n",
       "      <td>0</td>\n",
       "    </tr>\n",
       "    <tr>\n",
       "      <th>7032</th>\n",
       "      <td>7033</td>\n",
       "      <td>9.74</td>\n",
       "      <td>5</td>\n",
       "      <td>0.35</td>\n",
       "      <td>63.96</td>\n",
       "      <td>2.85</td>\n",
       "      <td>1</td>\n",
       "      <td>0</td>\n",
       "      <td>0</td>\n",
       "    </tr>\n",
       "    <tr>\n",
       "      <th>7394</th>\n",
       "      <td>7395</td>\n",
       "      <td>8.18</td>\n",
       "      <td>6</td>\n",
       "      <td>0.65</td>\n",
       "      <td>55.38</td>\n",
       "      <td>2.96</td>\n",
       "      <td>0</td>\n",
       "      <td>0</td>\n",
       "      <td>0</td>\n",
       "    </tr>\n",
       "    <tr>\n",
       "      <th>3309</th>\n",
       "      <td>3310</td>\n",
       "      <td>13.85</td>\n",
       "      <td>10</td>\n",
       "      <td>1.78</td>\n",
       "      <td>3.10</td>\n",
       "      <td>2.73</td>\n",
       "      <td>0</td>\n",
       "      <td>0</td>\n",
       "      <td>1</td>\n",
       "    </tr>\n",
       "    <tr>\n",
       "      <th>1564</th>\n",
       "      <td>1565</td>\n",
       "      <td>10.77</td>\n",
       "      <td>10</td>\n",
       "      <td>0.58</td>\n",
       "      <td>64.86</td>\n",
       "      <td>3.01</td>\n",
       "      <td>0</td>\n",
       "      <td>0</td>\n",
       "      <td>0</td>\n",
       "    </tr>\n",
       "  </tbody>\n",
       "</table>\n",
       "</div>"
      ],
      "text/plain": [
       "        id  unit_price  delivery_days  performance_score  response_time  \\\n",
       "3838  3839       14.29              7               0.15          40.09   \n",
       "7032  7033        9.74              5               0.35          63.96   \n",
       "7394  7395        8.18              6               0.65          55.38   \n",
       "3309  3310       13.85             10               1.78           3.10   \n",
       "1564  1565       10.77             10               0.58          64.86   \n",
       "\n",
       "      rfq_complexity_score  is_urgent  is_custom  won  \n",
       "3838                  3.81          0          1    0  \n",
       "7032                  2.85          1          0    0  \n",
       "7394                  2.96          0          0    0  \n",
       "3309                  2.73          0          0    1  \n",
       "1564                  3.01          0          0    0  "
      ]
     },
     "execution_count": 7,
     "metadata": {},
     "output_type": "execute_result"
    }
   ],
   "source": [
    "df.sample(5)"
   ]
  },
  {
   "cell_type": "code",
   "execution_count": 4,
   "id": "fd40ddc4",
   "metadata": {},
   "outputs": [
    {
     "name": "stdout",
     "output_type": "stream",
     "text": [
      "<class 'pandas.core.frame.DataFrame'>\n",
      "RangeIndex: 588 entries, 0 to 587\n",
      "Data columns (total 9 columns):\n",
      " #   Column                Non-Null Count  Dtype  \n",
      "---  ------                --------------  -----  \n",
      " 0   id                    588 non-null    int64  \n",
      " 1   unit_price            588 non-null    float64\n",
      " 2   delivery_days         588 non-null    int64  \n",
      " 3   performance_score     588 non-null    float64\n",
      " 4   response_time         588 non-null    float64\n",
      " 5   rfq_complexity_score  588 non-null    float64\n",
      " 6   is_urgent             588 non-null    int64  \n",
      " 7   is_custom             588 non-null    int64  \n",
      " 8   won                   0 non-null      object \n",
      "dtypes: float64(4), int64(4), object(1)\n",
      "memory usage: 41.5+ KB\n"
     ]
    }
   ],
   "source": [
    "df_test.info()"
   ]
  },
  {
   "cell_type": "code",
   "execution_count": 5,
   "id": "f765e696",
   "metadata": {},
   "outputs": [
    {
     "data": {
      "text/html": [
       "<div>\n",
       "<style scoped>\n",
       "    .dataframe tbody tr th:only-of-type {\n",
       "        vertical-align: middle;\n",
       "    }\n",
       "\n",
       "    .dataframe tbody tr th {\n",
       "        vertical-align: top;\n",
       "    }\n",
       "\n",
       "    .dataframe thead th {\n",
       "        text-align: right;\n",
       "    }\n",
       "</style>\n",
       "<table border=\"1\" class=\"dataframe\">\n",
       "  <thead>\n",
       "    <tr style=\"text-align: right;\">\n",
       "      <th></th>\n",
       "      <th>id</th>\n",
       "      <th>unit_price</th>\n",
       "      <th>delivery_days</th>\n",
       "      <th>performance_score</th>\n",
       "      <th>response_time</th>\n",
       "      <th>rfq_complexity_score</th>\n",
       "      <th>is_urgent</th>\n",
       "      <th>is_custom</th>\n",
       "      <th>won</th>\n",
       "    </tr>\n",
       "  </thead>\n",
       "  <tbody>\n",
       "    <tr>\n",
       "      <th>0</th>\n",
       "      <td>1</td>\n",
       "      <td>12.75</td>\n",
       "      <td>9</td>\n",
       "      <td>4.05</td>\n",
       "      <td>2.0</td>\n",
       "      <td>3.14</td>\n",
       "      <td>0</td>\n",
       "      <td>0</td>\n",
       "      <td>None</td>\n",
       "    </tr>\n",
       "    <tr>\n",
       "      <th>1</th>\n",
       "      <td>2</td>\n",
       "      <td>11.95</td>\n",
       "      <td>6</td>\n",
       "      <td>4.98</td>\n",
       "      <td>2.0</td>\n",
       "      <td>3.11</td>\n",
       "      <td>1</td>\n",
       "      <td>0</td>\n",
       "      <td>None</td>\n",
       "    </tr>\n",
       "    <tr>\n",
       "      <th>2</th>\n",
       "      <td>3</td>\n",
       "      <td>11.89</td>\n",
       "      <td>8</td>\n",
       "      <td>4.22</td>\n",
       "      <td>2.0</td>\n",
       "      <td>2.91</td>\n",
       "      <td>1</td>\n",
       "      <td>0</td>\n",
       "      <td>None</td>\n",
       "    </tr>\n",
       "    <tr>\n",
       "      <th>3</th>\n",
       "      <td>4</td>\n",
       "      <td>13.08</td>\n",
       "      <td>6</td>\n",
       "      <td>3.49</td>\n",
       "      <td>2.0</td>\n",
       "      <td>3.25</td>\n",
       "      <td>0</td>\n",
       "      <td>0</td>\n",
       "      <td>None</td>\n",
       "    </tr>\n",
       "    <tr>\n",
       "      <th>4</th>\n",
       "      <td>5</td>\n",
       "      <td>13.02</td>\n",
       "      <td>10</td>\n",
       "      <td>4.41</td>\n",
       "      <td>2.0</td>\n",
       "      <td>3.22</td>\n",
       "      <td>0</td>\n",
       "      <td>0</td>\n",
       "      <td>None</td>\n",
       "    </tr>\n",
       "  </tbody>\n",
       "</table>\n",
       "</div>"
      ],
      "text/plain": [
       "   id  unit_price  delivery_days  performance_score  response_time  \\\n",
       "0   1       12.75              9               4.05            2.0   \n",
       "1   2       11.95              6               4.98            2.0   \n",
       "2   3       11.89              8               4.22            2.0   \n",
       "3   4       13.08              6               3.49            2.0   \n",
       "4   5       13.02             10               4.41            2.0   \n",
       "\n",
       "   rfq_complexity_score  is_urgent  is_custom   won  \n",
       "0                  3.14          0          0  None  \n",
       "1                  3.11          1          0  None  \n",
       "2                  2.91          1          0  None  \n",
       "3                  3.25          0          0  None  \n",
       "4                  3.22          0          0  None  "
      ]
     },
     "execution_count": 5,
     "metadata": {},
     "output_type": "execute_result"
    }
   ],
   "source": [
    "df_test.head()\n",
    "\n",
    "# Target 'won' is NULL"
   ]
  },
  {
   "cell_type": "markdown",
   "id": "f49fc056",
   "metadata": {},
   "source": [
    "# EDA + Statistics"
   ]
  },
  {
   "cell_type": "markdown",
   "id": "704beeca",
   "metadata": {},
   "source": [
    "----------------------"
   ]
  },
  {
   "cell_type": "markdown",
   "id": "4cb861a4",
   "metadata": {},
   "source": [
    "##### Our prototype currently uses only synthetic data to simulate the real-world behavior of the end-to-end data workflow. For this reason, no exploratory data analysis or descriptive statistics will be performed at this stage—such as pattern identification, outlier detection, missing value checks, or data acquisition inconsistencies—since all input data is controlled and designed to be modeling-ready.\n",
    "##### To review the data generation mechanisms, refer to the scripts ```synthetic_data.py```, ```generate_training_dataset.py```, and ```simulate_quotations.py``` in the ```./src/utils/ directory```."
   ]
  },
  {
   "cell_type": "markdown",
   "id": "b6f00169",
   "metadata": {},
   "source": [
    "-----------------------"
   ]
  },
  {
   "cell_type": "markdown",
   "id": "90022a94",
   "metadata": {},
   "source": [
    "# Modeling (Binary Classification)"
   ]
  },
  {
   "cell_type": "markdown",
   "id": "07c803c6",
   "metadata": {},
   "source": [
    "#### Data Preparation & Preprocessing\n",
    "We began by splitting the dataset into training and validation sets, preserving class distribution through stratified sampling. To address class imbalance, we applied **undersampling** on the training set. A **MinMaxScaler** was then used to normalize continuous, non-binary features. Both scaled and raw versions of the datasets were stored to allow flexibility when training models with different preprocessing needs (e.g., tree-based models that don’t require feature scaling)."
   ]
  },
  {
   "cell_type": "code",
   "execution_count": 8,
   "id": "ca49063e",
   "metadata": {},
   "outputs": [],
   "source": [
    "from sklearn.model_selection import train_test_split\n",
    "from sklearn.preprocessing import MinMaxScaler\n",
    "from imblearn.under_sampling import RandomUnderSampler\n",
    "\n",
    "# Define feature and target columns\n",
    "binary_columns = ['is_urgent', 'is_custom']\n",
    "non_binary_columns = ['unit_price', 'delivery_days', 'performance_score', 'response_time', 'rfq_complexity_score']\n",
    "\n",
    "X = df.drop(columns=['id', 'won'])\n",
    "y = df['won']\n",
    "\n",
    "# Train-validation split\n",
    "X_train_full, X_val_full, y_train, y_val = train_test_split(\n",
    "    X, y, test_size=0.2, stratify=y, random_state=42\n",
    ")\n",
    "\n",
    "# Undersample only the training set\n",
    "undersampler = RandomUnderSampler(random_state=42)\n",
    "X_train_us, y_train_us = undersampler.fit_resample(X_train_full, y_train)\n",
    "\n",
    "# Apply MinMaxScaler only on non-binary columns\n",
    "scaler = MinMaxScaler()\n",
    "X_train_us_scaled = X_train_us.copy()\n",
    "X_val_scaled = X_val_full.copy()\n",
    "\n",
    "X_train_us_scaled[non_binary_columns] = scaler.fit_transform(X_train_us[non_binary_columns])\n",
    "X_val_scaled[non_binary_columns] = scaler.transform(X_val_full[non_binary_columns])\n",
    "\n",
    "# Store raw (unscaled) versions for tree-based models\n",
    "X_train_us_raw = X_train_us.copy()\n",
    "X_val_raw = X_val_full.copy()\n"
   ]
  },
  {
   "cell_type": "markdown",
   "id": "d6e42ea1",
   "metadata": {},
   "source": [
    "#### Model Training & Evaluation\n",
    "We trained four different classification models: Logistic Regression, Random Forest, XGBoost, and LightGBM. Scaled features were used with Logistic Regression, while raw features were used with tree-based models. For each model, we evaluated performance on both training and validation datasets using classification reports to assess metrics like precision, recall, and F1-score."
   ]
  },
  {
   "cell_type": "code",
   "execution_count": 9,
   "id": "510f7e3b",
   "metadata": {},
   "outputs": [
    {
     "name": "stdout",
     "output_type": "stream",
     "text": [
      "\n",
      "🔹 Logistic Regression\n",
      "Training classification report:\n",
      "              precision    recall  f1-score   support\n",
      "\n",
      "           0       0.93      0.84      0.88      1051\n",
      "           1       0.85      0.94      0.89      1051\n",
      "\n",
      "    accuracy                           0.89      2102\n",
      "   macro avg       0.89      0.89      0.89      2102\n",
      "weighted avg       0.89      0.89      0.89      2102\n",
      "\n",
      "Validation classification report:\n",
      "              precision    recall  f1-score   support\n",
      "\n",
      "           0       0.99      0.81      0.89      1737\n",
      "           1       0.43      0.94      0.59       263\n",
      "\n",
      "    accuracy                           0.83      2000\n",
      "   macro avg       0.71      0.88      0.74      2000\n",
      "weighted avg       0.92      0.83      0.85      2000\n",
      "\n",
      "\n",
      "🔹 Random Forest\n",
      "Training classification report:\n",
      "              precision    recall  f1-score   support\n",
      "\n",
      "           0       1.00      1.00      1.00      1051\n",
      "           1       1.00      1.00      1.00      1051\n",
      "\n",
      "    accuracy                           1.00      2102\n",
      "   macro avg       1.00      1.00      1.00      2102\n",
      "weighted avg       1.00      1.00      1.00      2102\n",
      "\n",
      "Validation classification report:\n",
      "              precision    recall  f1-score   support\n",
      "\n",
      "           0       0.98      0.86      0.91      1737\n",
      "           1       0.48      0.89      0.63       263\n",
      "\n",
      "    accuracy                           0.86      2000\n",
      "   macro avg       0.73      0.87      0.77      2000\n",
      "weighted avg       0.91      0.86      0.88      2000\n",
      "\n",
      "\n",
      "🔹 XGBoost\n",
      "Training classification report:\n",
      "              precision    recall  f1-score   support\n",
      "\n",
      "           0       1.00      1.00      1.00      1051\n",
      "           1       1.00      1.00      1.00      1051\n",
      "\n",
      "    accuracy                           1.00      2102\n",
      "   macro avg       1.00      1.00      1.00      2102\n",
      "weighted avg       1.00      1.00      1.00      2102\n",
      "\n",
      "Validation classification report:\n",
      "              precision    recall  f1-score   support\n",
      "\n",
      "           0       0.98      0.85      0.91      1737\n",
      "           1       0.48      0.90      0.63       263\n",
      "\n",
      "    accuracy                           0.86      2000\n",
      "   macro avg       0.73      0.88      0.77      2000\n",
      "weighted avg       0.92      0.86      0.88      2000\n",
      "\n",
      "\n",
      "🔹 LightGBM\n",
      "Training classification report:\n",
      "              precision    recall  f1-score   support\n",
      "\n",
      "           0       0.99      0.99      0.99      1051\n",
      "           1       0.99      0.99      0.99      1051\n",
      "\n",
      "    accuracy                           0.99      2102\n",
      "   macro avg       0.99      0.99      0.99      2102\n",
      "weighted avg       0.99      0.99      0.99      2102\n",
      "\n",
      "Validation classification report:\n",
      "              precision    recall  f1-score   support\n",
      "\n",
      "           0       0.98      0.86      0.92      1737\n",
      "           1       0.49      0.89      0.63       263\n",
      "\n",
      "    accuracy                           0.86      2000\n",
      "   macro avg       0.74      0.87      0.78      2000\n",
      "weighted avg       0.92      0.86      0.88      2000\n",
      "\n"
     ]
    }
   ],
   "source": [
    "from sklearn.linear_model import LogisticRegression\n",
    "from sklearn.ensemble import RandomForestClassifier\n",
    "from xgboost import XGBClassifier\n",
    "from lightgbm import LGBMClassifier\n",
    "from sklearn.metrics import classification_report\n",
    "\n",
    "# Define models and data\n",
    "models = {\n",
    "    \"Logistic Regression\": {\n",
    "        \"model\": LogisticRegression(max_iter=1000, random_state=42),\n",
    "        \"X_train\": X_train_us_scaled,\n",
    "        \"X_val\": X_val_scaled,\n",
    "    },\n",
    "    \"Random Forest\": {\n",
    "        \"model\": RandomForestClassifier(random_state=42),\n",
    "        \"X_train\": X_train_us_raw,\n",
    "        \"X_val\": X_val_raw,\n",
    "    },\n",
    "    \"XGBoost\": {\n",
    "        \"model\": XGBClassifier(eval_metric=\"logloss\", random_state=42),\n",
    "        \"X_train\": X_train_us_raw,\n",
    "        \"X_val\": X_val_raw,\n",
    "    },\n",
    "    \"LightGBM\": {\n",
    "        \"model\": LGBMClassifier(random_state=42, verbose=-1),\n",
    "        \"X_train\": X_train_us_raw,\n",
    "        \"X_val\": X_val_raw,\n",
    "    }\n",
    "}\n",
    "\n",
    "# Train and evaluate each model\n",
    "for name, config in models.items():\n",
    "    model = config[\"model\"]\n",
    "    X_train = config[\"X_train\"]\n",
    "    X_val = config[\"X_val\"]\n",
    "\n",
    "    print(f\"\\n🔹 {name}\")\n",
    "    model.fit(X_train, y_train_us)\n",
    "\n",
    "    y_train_pred = model.predict(X_train)\n",
    "    y_val_pred = model.predict(X_val)\n",
    "\n",
    "    print(\"Training classification report:\")\n",
    "    print(classification_report(y_train_us, y_train_pred))\n",
    "\n",
    "    print(\"Validation classification report:\")\n",
    "    print(classification_report(y_val, y_val_pred))\n"
   ]
  },
  {
   "cell_type": "markdown",
   "id": "ee908722",
   "metadata": {},
   "source": [
    "#### Hyperparameter Tuning with GridSearchCV\n",
    "To improve performance, we performed hyperparameter tuning on the Logistic Regression model using GridSearchCV with 5-fold cross-validation and F1-score as the evaluation metric. After identifying the best parameter combination, we retrained the model and evaluated it again on both training and validation sets to confirm generalization.\n",
    "\n",
    "The **F1-score** is selected as the **primary evaluation metric** because it balances precision and recall, which are both critical in the quotation acceptance prediction task. This metric captures the trade-off between false positives and false negatives, providing a more comprehensive assessment of model performance than accuracy alone, especially given the inherent class imbalance in the quotation acceptance problem"
   ]
  },
  {
   "cell_type": "code",
   "execution_count": 10,
   "id": "3ecfb36b",
   "metadata": {},
   "outputs": [
    {
     "name": "stdout",
     "output_type": "stream",
     "text": [
      "Fitting 5 folds for each of 24 candidates, totalling 120 fits\n",
      "Best parameters: {'C': 1, 'penalty': 'l2', 'solver': 'saga'}\n",
      "Best F1 score on training set (cross-validated): 0.8907955605956189\n",
      "\n",
      "Classification Report (Train):\n",
      "              precision    recall  f1-score   support\n",
      "\n",
      "           0       0.93      0.84      0.88      1051\n",
      "           1       0.85      0.94      0.89      1051\n",
      "\n",
      "    accuracy                           0.89      2102\n",
      "   macro avg       0.89      0.89      0.89      2102\n",
      "weighted avg       0.89      0.89      0.89      2102\n",
      "\n",
      "Classification Report (Validation):\n",
      "              precision    recall  f1-score   support\n",
      "\n",
      "           0       0.99      0.81      0.89      1737\n",
      "           1       0.43      0.94      0.59       263\n",
      "\n",
      "    accuracy                           0.83      2000\n",
      "   macro avg       0.71      0.88      0.74      2000\n",
      "weighted avg       0.92      0.83      0.85      2000\n",
      "\n"
     ]
    }
   ],
   "source": [
    "from sklearn.model_selection import GridSearchCV\n",
    "from sklearn.linear_model import LogisticRegression\n",
    "from sklearn.metrics import classification_report\n",
    "\n",
    "# Define hyperparameter grid\n",
    "param_grid = {\n",
    "    'penalty': ['l1', 'l2'],\n",
    "    'C': [0.001, 0.01, 0.1, 1, 10, 100],\n",
    "    'solver': ['liblinear', 'saga']\n",
    "}\n",
    "\n",
    "# Create base model\n",
    "logreg = LogisticRegression(max_iter=1000, random_state=42)\n",
    "\n",
    "# Set up GridSearchCV\n",
    "grid_search = GridSearchCV(logreg, param_grid, cv=5, scoring='f1', n_jobs=-1, verbose=1)\n",
    "grid_search.fit(X_train_us_scaled, y_train_us)\n",
    "\n",
    "# Print best hyperparameters and training F1 score\n",
    "print(\"Best parameters:\", grid_search.best_params_)\n",
    "print(\"Best F1 score on training set (cross-validated):\", grid_search.best_score_)\n",
    "\n",
    "# Use the best estimator to make predictions\n",
    "best_model = grid_search.best_estimator_\n",
    "\n",
    "# Predictions on training and validation sets\n",
    "y_pred_train = best_model.predict(X_train_us_scaled)\n",
    "y_pred_val = best_model.predict(X_val_scaled)\n",
    "\n",
    "# Print classification reports\n",
    "print(\"\\nClassification Report (Train):\")\n",
    "print(classification_report(y_train_us, y_pred_train))\n",
    "\n",
    "print(\"Classification Report (Validation):\")\n",
    "print(classification_report(y_val, y_pred_val))\n",
    "\n"
   ]
  },
  {
   "cell_type": "markdown",
   "id": "c3ee0c4d",
   "metadata": {},
   "source": [
    "----------------"
   ]
  },
  {
   "cell_type": "markdown",
   "id": "bed9c4aa",
   "metadata": {},
   "source": [
    "# Visualisation"
   ]
  },
  {
   "cell_type": "markdown",
   "id": "3f95a13a",
   "metadata": {},
   "source": [
    "### Confusion Matrix"
   ]
  },
  {
   "cell_type": "code",
   "execution_count": 11,
   "id": "55f78169",
   "metadata": {},
   "outputs": [
    {
     "data": {
      "image/png": "[encoded data removed]",
      "text/plain": [
       "<Figure size 1200x500 with 2 Axes>"
      ]
     },
     "metadata": {},
     "output_type": "display_data"
    }
   ],
   "source": [
    "import matplotlib.pyplot as plt\n",
    "from sklearn.metrics import confusion_matrix, ConfusionMatrixDisplay\n",
    "\n",
    "# Train predictions\n",
    "y_train_pred = best_model.predict(X_train_us_scaled)\n",
    "y_val_pred = best_model.predict(X_val_scaled)\n",
    "\n",
    "# Plot confusion matrices\n",
    "fig, ax = plt.subplots(1, 2, figsize=(12, 5))\n",
    "\n",
    "ConfusionMatrixDisplay.from_predictions(y_train_us, y_train_pred, ax=ax[0], cmap=\"Blues\", colorbar=False)\n",
    "ax[0].set_title(\"Confusion Matrix - Train Set\")\n",
    "\n",
    "ConfusionMatrixDisplay.from_predictions(y_val, y_val_pred, ax=ax[1], cmap=\"Greens\", colorbar=False)\n",
    "ax[1].set_title(\"Confusion Matrix - Validation Set\")\n",
    "\n",
    "plt.tight_layout()\n",
    "plt.show()\n"
   ]
  },
  {
   "cell_type": "markdown",
   "id": "0097cc9e",
   "metadata": {},
   "source": [
    "#### ROC Curve"
   ]
  },
  {
   "cell_type": "code",
   "execution_count": 12,
   "id": "6d416602",
   "metadata": {},
   "outputs": [
    {
     "data": {
      "image/png": "[encoded data removed]",
      "text/plain": [
       "<Figure size 800x600 with 1 Axes>"
      ]
     },
     "metadata": {},
     "output_type": "display_data"
    }
   ],
   "source": [
    "from sklearn.metrics import roc_curve, roc_auc_score\n",
    "\n",
    "best_model = grid_search.best_estimator_\n",
    "y_val_proba = best_model.predict_proba(X_val_scaled)[:, 1]\n",
    "\n",
    "fpr, tpr, _ = roc_curve(y_val, y_val_proba)\n",
    "auc_score = roc_auc_score(y_val, y_val_proba)\n",
    "\n",
    "plt.figure(figsize=(8,6))\n",
    "plt.plot(fpr, tpr, label=f\"AUC = {auc_score:.3f}\")\n",
    "plt.plot([0,1], [0,1], linestyle='--', color='gray')\n",
    "plt.xlabel(\"False Positive Rate\")\n",
    "plt.ylabel(\"True Positive Rate\")\n",
    "plt.title(\"ROC Curve - Logistic Regression\")\n",
    "plt.legend()\n",
    "plt.grid(True)\n",
    "plt.show()\n"
   ]
  },
  {
   "cell_type": "markdown",
   "id": "2599be81",
   "metadata": {},
   "source": [
    "#### Features Importance"
   ]
  },
  {
   "cell_type": "code",
   "execution_count": 13,
   "id": "11067c35",
   "metadata": {},
   "outputs": [
    {
     "name": "stdout",
     "output_type": "stream",
     "text": [
      "🔍 Logistic Regression - Feature Importance (sorted by magnitude):\n",
      "                Feature  Coefficient\n",
      "3         response_time    -7.892158\n",
      "5             is_urgent    -1.730473\n",
      "0            unit_price    -1.268823\n",
      "2     performance_score     1.050178\n",
      "1         delivery_days    -0.706322\n",
      "4  rfq_complexity_score    -0.609255\n",
      "6             is_custom     0.206756\n"
     ]
    }
   ],
   "source": [
    "import numpy as np\n",
    "\n",
    "# Extract and display coefficients\n",
    "coefs = best_model.coef_[0]\n",
    "features = X_train_us_scaled.columns\n",
    "coef_df = pd.DataFrame({\n",
    "    'Feature': features,\n",
    "    'Coefficient': coefs\n",
    "})\n",
    "coef_df['Abs_Coefficient'] = coef_df['Coefficient'].abs()\n",
    "coef_df.sort_values(by='Abs_Coefficient', ascending=False, inplace=True)\n",
    "\n",
    "print(\"🔍 Logistic Regression - Feature Importance (sorted by magnitude):\")\n",
    "print(coef_df[['Feature', 'Coefficient']])\n"
   ]
  },
  {
   "cell_type": "code",
   "execution_count": 14,
   "id": "0fdee24a",
   "metadata": {},
   "outputs": [
    {
     "name": "stderr",
     "output_type": "stream",
     "text": [
      "C:\\Users\\lucas\\AppData\\Local\\Temp\\ipykernel_24352\\3572712529.py:4: FutureWarning: \n",
      "\n",
      "Passing `palette` without assigning `hue` is deprecated and will be removed in v0.14.0. Assign the `y` variable to `hue` and set `legend=False` for the same effect.\n",
      "\n",
      "  sns.barplot(data=coef_df.head(10), x='Coefficient', y='Feature', palette='coolwarm')\n"
     ]
    },
    {
     "data": {
      "image/png": "[encoded data removed]",
      "text/plain": [
       "<Figure size 1000x600 with 1 Axes>"
      ]
     },
     "metadata": {},
     "output_type": "display_data"
    }
   ],
   "source": [
    "import seaborn as sns\n",
    "\n",
    "plt.figure(figsize=(10,6))\n",
    "sns.barplot(data=coef_df.head(10), x='Coefficient', y='Feature', palette='coolwarm')\n",
    "plt.title(\"Top 10 Most Influential Features - Logistic Regression\")\n",
    "plt.xlabel(\"Coefficient Value\")\n",
    "plt.ylabel(\"Feature\")\n",
    "plt.grid(True)\n",
    "plt.tight_layout()\n",
    "plt.show()\n"
   ]
  },
  {
   "cell_type": "markdown",
   "id": "71beef7b",
   "metadata": {},
   "source": [
    "### Interpreting Feature Importance — Logistic Regression\n",
    "The table above displays the feature coefficients from the trained Logistic Regression model, sorted by absolute magnitude. In this context, coefficients indicate the influence of each feature on the likelihood of a quotation being accepted (i.e., predicting class 1).\n",
    "\n",
    "* Negative coefficients (e.g., ```response_time```, ```unit_price```) are associated with a lower probability of quote acceptance. For example, a longer response time or a higher unit price reduces the chances of winning the deal.\n",
    "\n",
    "* Positive coefficients (e.g., ```performance_score```, ```rfq_complexity_score```) increase the probability of acceptance, suggesting that strong supplier performance or moderately complex RFQs may positively influence outcomes.\n",
    "\n",
    "The magnitude of the coefficient reflects feature importance:\n",
    "\n",
    "```Response time``` stands out as the most influential feature, indicating that timeliness is critical in winning quotations.\n",
    "\n",
    "* Binary features such as ```is_urgent``` and ```is_custom``` also play a meaningful role in shaping quote outcomes, reflecting how urgency and customisation may affect client decisions.\n",
    "\n",
    "* These insights can be used not only for prediction but also for improving operational strategy—for example, prioritising faster response mechanisms or flagging high-risk RFQs."
   ]
  },
  {
   "cell_type": "markdown",
   "id": "9fe643c4",
   "metadata": {},
   "source": [
    "### Calibration Curve"
   ]
  },
  {
   "cell_type": "code",
   "execution_count": 21,
   "id": "3bff75fc",
   "metadata": {},
   "outputs": [
    {
     "data": {
      "image/png": "[encoded data removed]",
      "text/plain": [
       "<Figure size 600x600 with 1 Axes>"
      ]
     },
     "metadata": {},
     "output_type": "display_data"
    }
   ],
   "source": [
    "from sklearn.calibration import calibration_curve\n",
    "import matplotlib.pyplot as plt\n",
    "\n",
    "# Predicted probabilities on validation set\n",
    "y_val_proba = best_model.predict_proba(X_val_scaled)[:, 1]\n",
    "\n",
    "# Compute calibration curve\n",
    "true_fraction, predicted_prob = calibration_curve(y_val, y_val_proba, n_bins=10)\n",
    "\n",
    "# Plot calibration curve\n",
    "plt.figure(figsize=(6, 6))\n",
    "plt.plot(predicted_prob, true_fraction, marker='o', label='Model')\n",
    "plt.plot([0, 1], [0, 1], linestyle='--', color='gray', label='Perfect Calibration')\n",
    "plt.xlabel('Predicted Probability')\n",
    "plt.ylabel('Observed Frequency of Positives')\n",
    "plt.title('Calibration Curve - Validation Set')\n",
    "plt.legend()\n",
    "plt.grid(True)\n",
    "plt.tight_layout()\n",
    "plt.show()\n",
    "\n"
   ]
  },
  {
   "cell_type": "markdown",
   "id": "3200edef",
   "metadata": {},
   "source": [
    "### Probability Histogram by Class"
   ]
  },
  {
   "cell_type": "code",
   "execution_count": 22,
   "id": "753a9822",
   "metadata": {},
   "outputs": [
    {
     "data": {
      "image/png": "[encoded data removed]",
      "text/plain": [
       "<Figure size 1000x600 with 1 Axes>"
      ]
     },
     "metadata": {},
     "output_type": "display_data"
    }
   ],
   "source": [
    "import matplotlib.pyplot as plt\n",
    "import seaborn as sns\n",
    "import pandas as pd\n",
    "\n",
    "# Create DataFrame with predicted probabilities and true labels\n",
    "proba_df = pd.DataFrame({\n",
    "    'Predicted_Probability': y_val_proba,\n",
    "    'Actual_Label': y_val\n",
    "})\n",
    "\n",
    "plt.figure(figsize=(10, 6))\n",
    "sns.histplot(data=proba_df, x='Predicted_Probability', hue='Actual_Label', bins=20, kde=False, stat='density', palette='Set2', multiple='stack')\n",
    "\n",
    "plt.title('Predicted Probability Distribution by Class')\n",
    "plt.xlabel('Predicted Probability (Class = 1)')\n",
    "plt.ylabel('Density')\n",
    "plt.legend(title='True Class', labels=['Negative (0)', 'Positive (1)'])\n",
    "plt.grid(True)\n",
    "plt.tight_layout()\n",
    "plt.show()\n"
   ]
  },
  {
   "cell_type": "markdown",
   "id": "80fe76bd",
   "metadata": {},
   "source": [
    "------------"
   ]
  },
  {
   "cell_type": "markdown",
   "id": "109c83cd",
   "metadata": {},
   "source": [
    "# Saving Model and Scaler"
   ]
  },
  {
   "cell_type": "code",
   "execution_count": 17,
   "id": "6121ceda",
   "metadata": {},
   "outputs": [
    {
     "name": "stdout",
     "output_type": "stream",
     "text": [
      "✅ Model and scaler saved successfully in .src/models/\n"
     ]
    }
   ],
   "source": [
    "import joblib\n",
    "import os\n",
    "\n",
    "models_dir = \"../models/\"\n",
    "os.makedirs(models_dir, exist_ok=True)\n",
    "\n",
    "# Save model and scaler in the .src/models/ folder\n",
    "joblib.dump(best_model, os.path.join(models_dir, \"best_logistic_model.pkl\"))\n",
    "joblib.dump(scaler, os.path.join(models_dir, \"minmax_scaler.pkl\"))\n",
    "\n",
    "print(\"✅ Model and scaler saved successfully in .src/models/\")\n",
    "\n"
   ]
  },
  {
   "cell_type": "markdown",
   "id": "ca8e80b3",
   "metadata": {},
   "source": [
    "-------------"
   ]
  },
  {
   "cell_type": "markdown",
   "id": "e6321d24",
   "metadata": {},
   "source": [
    "# Test set prediction"
   ]
  },
  {
   "cell_type": "markdown",
   "id": "1e3d98ec",
   "metadata": {},
   "source": [
    "We use our trained binary classifier to estimate the probability that each test sample belongs to class 1 (i.e., the quote will be accepted). These probabilities—stored in the `'won'` column—serve as dynamic acceptance scores used later in the quote optimization process.\n"
   ]
  },
  {
   "cell_type": "code",
   "execution_count": 15,
   "id": "372d23a2",
   "metadata": {},
   "outputs": [],
   "source": [
    "# Copy test data (with all features, 'won' is null)\n",
    "df_test_copy = df_test.copy()\n",
    "\n",
    "# Ensure the same column order and names\n",
    "X_test = df_test_copy.drop(columns=['id', 'won'])\n",
    "\n",
    "# Apply same MinMax scaling only to non-binary columns\n",
    "X_test_scaled = X_test.copy()\n",
    "X_test_scaled[non_binary_columns] = scaler.transform(X_test[non_binary_columns])\n",
    "\n",
    "# Get acceptance probabilities (class 1)\n",
    "test_probabilities = best_model.predict_proba(X_test_scaled)[:, 1]\n",
    "\n",
    "# Insert acceptance scores into the dataframe\n",
    "df_test_copy['won'] = test_probabilities\n",
    "\n"
   ]
  },
  {
   "cell_type": "code",
   "execution_count": 17,
   "id": "dad40c73",
   "metadata": {},
   "outputs": [
    {
     "data": {
      "text/html": [
       "<div>\n",
       "<style scoped>\n",
       "    .dataframe tbody tr th:only-of-type {\n",
       "        vertical-align: middle;\n",
       "    }\n",
       "\n",
       "    .dataframe tbody tr th {\n",
       "        vertical-align: top;\n",
       "    }\n",
       "\n",
       "    .dataframe thead th {\n",
       "        text-align: right;\n",
       "    }\n",
       "</style>\n",
       "<table border=\"1\" class=\"dataframe\">\n",
       "  <thead>\n",
       "    <tr style=\"text-align: right;\">\n",
       "      <th></th>\n",
       "      <th>id</th>\n",
       "      <th>unit_price</th>\n",
       "      <th>delivery_days</th>\n",
       "      <th>performance_score</th>\n",
       "      <th>response_time</th>\n",
       "      <th>rfq_complexity_score</th>\n",
       "      <th>is_urgent</th>\n",
       "      <th>is_custom</th>\n",
       "      <th>won</th>\n",
       "    </tr>\n",
       "  </thead>\n",
       "  <tbody>\n",
       "    <tr>\n",
       "      <th>198</th>\n",
       "      <td>199</td>\n",
       "      <td>14.34</td>\n",
       "      <td>6</td>\n",
       "      <td>4.77</td>\n",
       "      <td>2.0</td>\n",
       "      <td>2.91</td>\n",
       "      <td>1</td>\n",
       "      <td>0</td>\n",
       "      <td>0.678209</td>\n",
       "    </tr>\n",
       "    <tr>\n",
       "      <th>88</th>\n",
       "      <td>89</td>\n",
       "      <td>12.16</td>\n",
       "      <td>6</td>\n",
       "      <td>4.77</td>\n",
       "      <td>2.0</td>\n",
       "      <td>3.28</td>\n",
       "      <td>1</td>\n",
       "      <td>1</td>\n",
       "      <td>0.760406</td>\n",
       "    </tr>\n",
       "    <tr>\n",
       "      <th>421</th>\n",
       "      <td>422</td>\n",
       "      <td>12.43</td>\n",
       "      <td>9</td>\n",
       "      <td>4.10</td>\n",
       "      <td>2.0</td>\n",
       "      <td>3.00</td>\n",
       "      <td>1</td>\n",
       "      <td>0</td>\n",
       "      <td>0.630581</td>\n",
       "    </tr>\n",
       "    <tr>\n",
       "      <th>157</th>\n",
       "      <td>158</td>\n",
       "      <td>10.08</td>\n",
       "      <td>5</td>\n",
       "      <td>3.17</td>\n",
       "      <td>2.0</td>\n",
       "      <td>2.73</td>\n",
       "      <td>0</td>\n",
       "      <td>0</td>\n",
       "      <td>0.945277</td>\n",
       "    </tr>\n",
       "    <tr>\n",
       "      <th>155</th>\n",
       "      <td>156</td>\n",
       "      <td>10.61</td>\n",
       "      <td>5</td>\n",
       "      <td>4.85</td>\n",
       "      <td>2.0</td>\n",
       "      <td>2.74</td>\n",
       "      <td>0</td>\n",
       "      <td>0</td>\n",
       "      <td>0.958085</td>\n",
       "    </tr>\n",
       "  </tbody>\n",
       "</table>\n",
       "</div>"
      ],
      "text/plain": [
       "      id  unit_price  delivery_days  performance_score  response_time  \\\n",
       "198  199       14.34              6               4.77            2.0   \n",
       "88    89       12.16              6               4.77            2.0   \n",
       "421  422       12.43              9               4.10            2.0   \n",
       "157  158       10.08              5               3.17            2.0   \n",
       "155  156       10.61              5               4.85            2.0   \n",
       "\n",
       "     rfq_complexity_score  is_urgent  is_custom       won  \n",
       "198                  2.91          1          0  0.678209  \n",
       "88                   3.28          1          1  0.760406  \n",
       "421                  3.00          1          0  0.630581  \n",
       "157                  2.73          0          0  0.945277  \n",
       "155                  2.74          0          0  0.958085  "
      ]
     },
     "execution_count": 17,
     "metadata": {},
     "output_type": "execute_result"
    }
   ],
   "source": [
    "df_test_copy.sample(5)"
   ]
  },
  {
   "cell_type": "code",
   "execution_count": 18,
   "id": "84bcc8c7",
   "metadata": {},
   "outputs": [],
   "source": [
    "import sqlite3\n",
    "sqlite3.connect(\"../data/quotations.db\").close()\n"
   ]
  },
  {
   "cell_type": "code",
   "execution_count": null,
   "id": "c38d84d7",
   "metadata": {},
   "outputs": [],
   "source": []
  },
  {
   "cell_type": "code",
   "execution_count": null,
   "id": "e07bf506",
   "metadata": {},
   "outputs": [],
   "source": []
  },
  {
   "cell_type": "code",
   "execution_count": null,
   "id": "917a51cd",
   "metadata": {},
   "outputs": [],
   "source": []
  }
 ],
 "metadata": {
  "kernelspec": {
   "display_name": ".venv",
   "language": "python",
   "name": "python3"
  },
  "language_info": {
   "codemirror_mode": {
    "name": "ipython",
    "version": 3
   },
   "file_extension": ".py",
   "mimetype": "text/x-python",
   "name": "python",
   "nbconvert_exporter": "python",
   "pygments_lexer": "ipython3",
   "version": "3.11.4"
  }
 },
 "nbformat": 4,
 "nbformat_minor": 5
}
